{
  "cells": [
    {
      "cell_type": "code",
      "execution_count": null,
      "metadata": {
        "id": "rYl3RRVN2rEB"
      },
      "outputs": [],
      "source": [
        "import numpy as np\n",
        "import pandas as pd\n",
        "import matplotlib.pyplot as plt\n",
        "import seaborn as sns\n",
        "import matplotlib.pyplot as plt\n",
        "import seaborn as sns\n",
        "from sklearn.preprocessing import LabelEncoder\n",
        "from sklearn.model_selection import train_test_split\n",
        "from sklearn.impute import SimpleImputer\n",
        "from sklearn.ensemble import ExtraTreesClassifier, RandomForestClassifier\n",
        "from sklearn.model_selection import GridSearchCV, RandomizedSearchCV\n",
        "from sklearn.model_selection import train_test_split\n",
        "from sklearn.linear_model import LogisticRegression\n",
        "from sklearn.metrics import accuracy_score, classification_report"
      ]
    },
    {
      "cell_type": "code",
      "execution_count": null,
      "metadata": {
        "colab": {
          "background_save": true
        },
        "id": "inRBZIkC7OPO",
        "outputId": "22bd8e45-1fd6-4a17-a794-02ccc549b7a9"
      },
      "outputs": [
        {
          "ename": "ValueError",
          "evalue": "mount failed",
          "output_type": "error",
          "traceback": [
            "\u001b[0;31m---------------------------------------------------------------------------\u001b[0m",
            "\u001b[0;31mValueError\u001b[0m                                Traceback (most recent call last)",
            "\u001b[0;32m<ipython-input-2-d5df0069828e>\u001b[0m in \u001b[0;36m<cell line: 2>\u001b[0;34m()\u001b[0m\n\u001b[1;32m      1\u001b[0m \u001b[0;32mfrom\u001b[0m \u001b[0mgoogle\u001b[0m\u001b[0;34m.\u001b[0m\u001b[0mcolab\u001b[0m \u001b[0;32mimport\u001b[0m \u001b[0mdrive\u001b[0m\u001b[0;34m\u001b[0m\u001b[0;34m\u001b[0m\u001b[0m\n\u001b[0;32m----> 2\u001b[0;31m \u001b[0mdrive\u001b[0m\u001b[0;34m.\u001b[0m\u001b[0mmount\u001b[0m\u001b[0;34m(\u001b[0m\u001b[0;34m'/content/drive'\u001b[0m\u001b[0;34m)\u001b[0m\u001b[0;34m\u001b[0m\u001b[0;34m\u001b[0m\u001b[0m\n\u001b[0m",
            "\u001b[0;32m/usr/local/lib/python3.10/dist-packages/google/colab/drive.py\u001b[0m in \u001b[0;36mmount\u001b[0;34m(mountpoint, force_remount, timeout_ms, readonly)\u001b[0m\n\u001b[1;32m     98\u001b[0m \u001b[0;32mdef\u001b[0m \u001b[0mmount\u001b[0m\u001b[0;34m(\u001b[0m\u001b[0mmountpoint\u001b[0m\u001b[0;34m,\u001b[0m \u001b[0mforce_remount\u001b[0m\u001b[0;34m=\u001b[0m\u001b[0;32mFalse\u001b[0m\u001b[0;34m,\u001b[0m \u001b[0mtimeout_ms\u001b[0m\u001b[0;34m=\u001b[0m\u001b[0;36m120000\u001b[0m\u001b[0;34m,\u001b[0m \u001b[0mreadonly\u001b[0m\u001b[0;34m=\u001b[0m\u001b[0;32mFalse\u001b[0m\u001b[0;34m)\u001b[0m\u001b[0;34m:\u001b[0m\u001b[0;34m\u001b[0m\u001b[0;34m\u001b[0m\u001b[0m\n\u001b[1;32m     99\u001b[0m   \u001b[0;34m\"\"\"Mount your Google Drive at the specified mountpoint path.\"\"\"\u001b[0m\u001b[0;34m\u001b[0m\u001b[0;34m\u001b[0m\u001b[0m\n\u001b[0;32m--> 100\u001b[0;31m   return _mount(\n\u001b[0m\u001b[1;32m    101\u001b[0m       \u001b[0mmountpoint\u001b[0m\u001b[0;34m,\u001b[0m\u001b[0;34m\u001b[0m\u001b[0;34m\u001b[0m\u001b[0m\n\u001b[1;32m    102\u001b[0m       \u001b[0mforce_remount\u001b[0m\u001b[0;34m=\u001b[0m\u001b[0mforce_remount\u001b[0m\u001b[0;34m,\u001b[0m\u001b[0;34m\u001b[0m\u001b[0;34m\u001b[0m\u001b[0m\n",
            "\u001b[0;32m/usr/local/lib/python3.10/dist-packages/google/colab/drive.py\u001b[0m in \u001b[0;36m_mount\u001b[0;34m(mountpoint, force_remount, timeout_ms, ephemeral, readonly)\u001b[0m\n\u001b[1;32m    281\u001b[0m             \u001b[0;34m'https://research.google.com/colaboratory/faq.html#drive-timeout'\u001b[0m\u001b[0;34m\u001b[0m\u001b[0;34m\u001b[0m\u001b[0m\n\u001b[1;32m    282\u001b[0m         )\n\u001b[0;32m--> 283\u001b[0;31m       \u001b[0;32mraise\u001b[0m \u001b[0mValueError\u001b[0m\u001b[0;34m(\u001b[0m\u001b[0;34m'mount failed'\u001b[0m \u001b[0;34m+\u001b[0m \u001b[0mextra_reason\u001b[0m\u001b[0;34m)\u001b[0m\u001b[0;34m\u001b[0m\u001b[0;34m\u001b[0m\u001b[0m\n\u001b[0m\u001b[1;32m    284\u001b[0m     \u001b[0;32melif\u001b[0m \u001b[0mcase\u001b[0m \u001b[0;34m==\u001b[0m \u001b[0;36m4\u001b[0m\u001b[0;34m:\u001b[0m\u001b[0;34m\u001b[0m\u001b[0;34m\u001b[0m\u001b[0m\n\u001b[1;32m    285\u001b[0m       \u001b[0;31m# Terminate the DriveFS binary before killing bash.\u001b[0m\u001b[0;34m\u001b[0m\u001b[0;34m\u001b[0m\u001b[0m\n",
            "\u001b[0;31mValueError\u001b[0m: mount failed"
          ]
        }
      ],
      "source": [
        "from google.colab import drive\n",
        "drive.mount('/content/drive')"
      ]
    },
    {
      "cell_type": "code",
      "execution_count": null,
      "metadata": {
        "colab": {
          "background_save": true
        },
        "id": "HnukobwM2rEF"
      },
      "outputs": [],
      "source": [
        "data = pd.read_csv('/content/drive/MyDrive/IPL_Matches_2008_2022.csv')"
      ]
    },
    {
      "cell_type": "code",
      "execution_count": null,
      "metadata": {
        "colab": {
          "background_save": true
        },
        "id": "Y_5HiPtS2rEG"
      },
      "outputs": [],
      "source": [
        "data_copy=data.copy()"
      ]
    },
    {
      "cell_type": "code",
      "execution_count": null,
      "metadata": {
        "colab": {
          "background_save": true
        },
        "id": "zWJzwLlI2rEG"
      },
      "outputs": [],
      "source": [
        "data.head()"
      ]
    },
    {
      "cell_type": "code",
      "execution_count": null,
      "metadata": {
        "colab": {
          "background_save": true
        },
        "id": "31aZhtJQ2rEI"
      },
      "outputs": [],
      "source": [
        "teams=pd.concat([data[\"Team1\"],data[\"Team2\"]])\n",
        "teams=teams.unique()\n",
        "teams"
      ]
    },
    {
      "cell_type": "code",
      "execution_count": null,
      "metadata": {
        "colab": {
          "background_save": true
        },
        "id": "I5QSxyPY2rEI"
      },
      "outputs": [],
      "source": [
        "cities=data[\"City\"].unique()"
      ]
    },
    {
      "cell_type": "code",
      "execution_count": null,
      "metadata": {
        "colab": {
          "background_save": true
        },
        "id": "IKNZomLq2rEJ"
      },
      "outputs": [],
      "source": [
        "team_city_map = {\n",
        "    'Sunrisers Hyderabad': 'Hyderabad',\n",
        "    'Deccan Chargers': 'Hyderabad',\n",
        "    'Mumbai Indians': 'Mumbai',\n",
        "    'Gujarat Lions': 'Gujarat',\n",
        "    'Gujarat Titans': 'Gujarat',\n",
        "    'Rising Pune Supergiants': 'Pune',\n",
        "    'Rising Pune Supergiant': 'Pune',\n",
        "    'Pune Warriors': 'Pune',\n",
        "    'Royal Challengers Bangalore': 'Bangalore',\n",
        "    'Royal Challengers Bengaluru': 'Bangalore',\n",
        "    'Kolkata Knight Riders': 'Kolkata',\n",
        "    'Delhi Daredevils': 'Delhi',\n",
        "    'Delhi Capitals': 'Delhi',\n",
        "    'Kings XI Punjab': 'Punjab',\n",
        "    'Punjab Kings': 'Punjab',\n",
        "    'Chennai Super Kings': 'Chennai',\n",
        "    'Rajasthan Royals': 'Rajasthan',\n",
        "    'Kochi Tuskers Kerala': 'Kochi',\n",
        "    'Lucknow Super Giants': 'Lucknow'\n",
        "}\n",
        "\n",
        "def team_to_city(df, feature):\n",
        "    df[feature] = df[feature].map(team_city_map)\n",
        "    return df\n",
        "\n",
        "def map_team_city(data):\n",
        "    data = data.copy()\n",
        "    for feature in ['Team1', 'Team2', 'TossWinner', 'WinningTeam']:\n",
        "        if feature in data.columns:\n",
        "            data = team_to_city(data, feature)\n",
        "    return data\n",
        "\n",
        "data = map_team_city(data)"
      ]
    },
    {
      "cell_type": "code",
      "execution_count": null,
      "metadata": {
        "colab": {
          "background_save": true
        },
        "id": "cXKsheDl2rEJ"
      },
      "outputs": [],
      "source": [
        "data.head()"
      ]
    },
    {
      "cell_type": "code",
      "execution_count": null,
      "metadata": {
        "colab": {
          "background_save": true
        },
        "id": "K026Lh682rEK"
      },
      "outputs": [],
      "source": [
        "data=data.drop([\"ID\",\"SuperOver\"],axis=1)\n",
        "data.head()"
      ]
    },
    {
      "cell_type": "code",
      "execution_count": null,
      "metadata": {
        "colab": {
          "background_save": true
        },
        "id": "jE9mySVN2rEK"
      },
      "outputs": [],
      "source": [
        "data['Season'] = pd.to_datetime(data['Date']).dt.year\n",
        "data['dayofyear'] = pd.to_datetime(data['Date']).dt.dayofyear\n",
        "data['dayofweek'] = pd.to_datetime(data['Date']).dt.dayofweek"
      ]
    },
    {
      "cell_type": "code",
      "execution_count": null,
      "metadata": {
        "colab": {
          "background_save": true
        },
        "id": "svuaGdEY2rEL"
      },
      "outputs": [],
      "source": [
        "from collections import defaultdict\n",
        "import ast\n",
        "\n",
        "# Create a dictionary to count the player_of_match occurrences\n",
        "player_scores = defaultdict(int)\n",
        "# Count the number of times each player has been the player_of_match\n",
        "for player in data['Player_of_Match']:\n",
        "    player_scores[player] += 1\n",
        "\n",
        "# Convert Team1Players and Team2Players from string representation of list to actual list\n",
        "data['Team1Players'] = data['Team1Players'].apply(ast.literal_eval)\n",
        "data['Team2Players'] = data['Team2Players'].apply(ast.literal_eval)\n",
        "\n",
        "\n",
        "# Display the player_of_match_counts\n",
        "player_scores"
      ]
    },
    {
      "cell_type": "code",
      "execution_count": null,
      "metadata": {
        "colab": {
          "background_save": true
        },
        "id": "5a-fJqme2rEM"
      },
      "outputs": [],
      "source": [
        "players_set = set()\n",
        "for i in range(data.shape[0]):\n",
        "    for j in data.loc[i, 'Team1Players']:\n",
        "        players_set.add(j)\n",
        "    for k in data.loc[i, 'Team2Players']:\n",
        "        players_set.add(k)\n",
        "\n",
        "players_set"
      ]
    },
    {
      "cell_type": "code",
      "execution_count": null,
      "metadata": {
        "colab": {
          "background_save": true
        },
        "id": "4l1CTdn92rEM"
      },
      "outputs": [],
      "source": [
        "def calculate_team_score(player_list):\n",
        "    return sum(player_scores[player] for player in player_list)\n",
        "\n",
        "\n",
        "def add_team_scores(df):\n",
        "    data = df.copy()\n",
        "    data['Team1Score'] = data['Team1Players'].apply(calculate_team_score)\n",
        "    data['Team2Score'] = data['Team2Players'].apply(calculate_team_score)\n",
        "    return data\n",
        "\n",
        "data = add_team_scores(data)"
      ]
    },
    {
      "cell_type": "code",
      "execution_count": null,
      "metadata": {
        "colab": {
          "background_save": true
        },
        "id": "nTOqF1y32rEM"
      },
      "outputs": [],
      "source": [
        "data.head()"
      ]
    },
    {
      "cell_type": "code",
      "execution_count": null,
      "metadata": {
        "colab": {
          "background_save": true
        },
        "id": "D1X0Sabg2rEP"
      },
      "outputs": [],
      "source": [
        "data = data.drop(columns=['MatchNumber'])"
      ]
    },
    {
      "cell_type": "code",
      "execution_count": null,
      "metadata": {
        "colab": {
          "background_save": true
        },
        "id": "om9JB87J2rEP"
      },
      "outputs": [],
      "source": [
        "teams=pd.concat([data[\"Team1\"],data[\"Team2\"], data['City']]).unique()\n",
        "teams"
      ]
    },
    {
      "cell_type": "code",
      "execution_count": null,
      "metadata": {
        "colab": {
          "background_save": true
        },
        "id": "b5JDrdUZ2rEQ"
      },
      "outputs": [],
      "source": [
        "data.isna().sum()"
      ]
    },
    {
      "cell_type": "code",
      "execution_count": null,
      "metadata": {
        "colab": {
          "background_save": true
        },
        "id": "NaLDHZX52rEQ"
      },
      "outputs": [],
      "source": [
        "data=data.drop(columns=[\"method\"],axis=1)"
      ]
    },
    {
      "cell_type": "code",
      "execution_count": null,
      "metadata": {
        "colab": {
          "background_save": true
        },
        "id": "JQJbuPus2rER"
      },
      "outputs": [],
      "source": [
        "data['City'] = data['City'].fillna('Mumbai')"
      ]
    },
    {
      "cell_type": "code",
      "execution_count": null,
      "metadata": {
        "colab": {
          "background_save": true
        },
        "id": "b6NEPpX72rER"
      },
      "outputs": [],
      "source": [
        "data=data.dropna()"
      ]
    },
    {
      "cell_type": "code",
      "execution_count": null,
      "metadata": {
        "colab": {
          "background_save": true
        },
        "id": "WOa1teMJ2rER"
      },
      "outputs": [],
      "source": [
        "data=data.drop(columns=['Team1Players', 'Team2Players'])"
      ]
    },
    {
      "cell_type": "code",
      "execution_count": null,
      "metadata": {
        "colab": {
          "background_save": true
        },
        "id": "oQb2msIF2rER"
      },
      "outputs": [],
      "source": [
        "data['team1_home'] = False\n",
        "data['team2_home'] = False\n",
        "data.loc[data['City'] == data['Team1'], 'team1_home'] = True\n",
        "data.loc[data['City'] == data['Team2'], 'team2_home'] = True"
      ]
    },
    {
      "cell_type": "code",
      "execution_count": null,
      "metadata": {
        "colab": {
          "background_save": true
        },
        "id": "6_u3tuGK2rER"
      },
      "outputs": [],
      "source": [
        "teams_margin_score={}\n",
        "matches_played={}\n",
        "matches_won={}\n",
        "toss_win_count={}\n",
        "toss_win_match_win={}\n",
        "avg_win_margin={}\n",
        "avg_win_rate={}\n",
        "\n",
        "for index, row in data.iterrows():\n",
        "    if row[\"Team1\"] not in teams_margin_score:\n",
        "        teams_margin_score[row[\"Team1\"]]=0\n",
        "    if row[\"Team2\"] not in teams_margin_score:\n",
        "        teams_margin_score[row[\"Team2\"]]=0\n",
        "    if row[\"Team1\"] not in matches_played:\n",
        "        matches_played[row[\"Team1\"]]=0\n",
        "    if row[\"Team2\"] not in matches_played:\n",
        "        matches_played[row[\"Team2\"]]=0\n",
        "    if row[\"Team1\"] not in matches_won:\n",
        "        matches_won[row[\"Team1\"]]=0\n",
        "    if row[\"Team2\"] not in matches_won:\n",
        "        matches_won[row[\"Team2\"]]=0\n",
        "    if row[\"TossWinner\"] not in toss_win_count:\n",
        "        toss_win_count[row[\"TossWinner\"]]=0\n",
        "    if row[\"TossWinner\"] not in toss_win_match_win:\n",
        "        toss_win_match_win[row[\"TossWinner\"]]=0\n",
        "\n",
        "    teams_margin_score[row[\"WinningTeam\"]]+=row[\"Margin\"]\n",
        "    matches_played[row[\"Team1\"]]+=1\n",
        "    matches_played[row[\"Team2\"]]+=1\n",
        "    if row[\"WinningTeam\"]==row[\"Team1\"]:\n",
        "        matches_won[row[\"Team1\"]]+=1\n",
        "    else:\n",
        "        matches_won[row[\"Team2\"]]+=1\n",
        "    if row[\"TossWinner\"]==row[\"WinningTeam\"]:\n",
        "        toss_win_match_win[row[\"TossWinner\"]]+=1\n",
        "    toss_win_count[row[\"TossWinner\"]]+=1\n",
        "\n",
        "for i in teams_margin_score:\n",
        "    avg_win_margin[i]=np.round(teams_margin_score[i]/matches_played[i],2)\n",
        "    # print(i,avg_win_margin[i])\n",
        "for i in matches_played:\n",
        "    avg_win_rate[i]=np.round(matches_won[i]/matches_played[i],2)\n",
        "    # print(i,avg_win_rate[i])\n",
        "\n",
        "data[\"team1_avg_win_margin\"]=data[\"Team1\"].map(avg_win_margin)\n",
        "data[\"team2_avg_win_margin\"]=data[\"Team2\"].map(avg_win_margin)\n",
        "data[\"team1_avg_win_rate\"]=data[\"Team1\"].map(avg_win_rate)\n",
        "data[\"team2_avg_win_rate\"]=data[\"Team2\"].map(avg_win_rate)\n"
      ]
    },
    {
      "cell_type": "code",
      "execution_count": null,
      "metadata": {
        "colab": {
          "background_save": true
        },
        "id": "9ecI90ew2rES"
      },
      "outputs": [],
      "source": [
        "data.head()"
      ]
    },
    {
      "cell_type": "code",
      "execution_count": null,
      "metadata": {
        "colab": {
          "background_save": true
        },
        "id": "R0l4DRzD2rES"
      },
      "outputs": [],
      "source": [
        "data.dtypes[data.dtypes == 'object']"
      ]
    },
    {
      "cell_type": "code",
      "execution_count": null,
      "metadata": {
        "colab": {
          "background_save": true
        },
        "id": "Mromlkpc2rES"
      },
      "outputs": [],
      "source": [
        "umpires=pd.concat([data[\"Umpire1\"],data[\"Umpire2\"]]).unique()"
      ]
    },
    {
      "cell_type": "code",
      "execution_count": null,
      "metadata": {
        "colab": {
          "background_save": true
        },
        "id": "dHzaLruv2rET"
      },
      "outputs": [],
      "source": [
        "teams_encoder=LabelEncoder()\n",
        "umpires_encoder=LabelEncoder()\n",
        "venue_encoder=LabelEncoder()\n",
        "\n",
        "teams_encoder.fit(teams)\n",
        "umpires_encoder.fit(umpires)\n",
        "\n",
        "data['Venue'] = venue_encoder.fit_transform(data['Venue'])\n",
        "\n",
        "data[\"City\"]=teams_encoder.transform(data[\"City\"])\n",
        "data[\"Team1\"]=teams_encoder.transform(data[\"Team1\"])\n",
        "data[\"Team2\"]=teams_encoder.transform(data[\"Team2\"])\n",
        "data[\"TossWinner\"]=teams_encoder.transform(data[\"TossWinner\"])\n",
        "data[\"WinningTeam\"]=teams_encoder.transform(data[\"WinningTeam\"])\n",
        "\n",
        "data=pd.get_dummies(data, columns=['TossDecision'], drop_first=True)\n",
        "\n",
        "data[\"Umpire1\"]=umpires_encoder.transform(data[\"Umpire1\"])\n",
        "data[\"Umpire2\"]=umpires_encoder.transform(data[\"Umpire2\"])"
      ]
    },
    {
      "cell_type": "code",
      "execution_count": null,
      "metadata": {
        "colab": {
          "background_save": true
        },
        "id": "aDhxFzeF2rET"
      },
      "outputs": [],
      "source": [
        "data=data.drop(columns=[\"Player_of_Match\"],axis=1)"
      ]
    },
    {
      "cell_type": "code",
      "execution_count": null,
      "metadata": {
        "colab": {
          "background_save": true
        },
        "id": "YW8FsB722rET"
      },
      "outputs": [],
      "source": [
        "data.head()"
      ]
    },
    {
      "cell_type": "code",
      "execution_count": null,
      "metadata": {
        "colab": {
          "background_save": true
        },
        "id": "xK9cXyPj2rET"
      },
      "outputs": [],
      "source": [
        "data['team1_wins'] = False\n",
        "data.loc[data['Team1'] == data['WinningTeam'], 'team1_wins'] = True"
      ]
    },
    {
      "cell_type": "code",
      "execution_count": null,
      "metadata": {
        "colab": {
          "background_save": true
        },
        "id": "KDX2Jzo52rEU"
      },
      "outputs": [],
      "source": [
        "data.head()"
      ]
    },
    {
      "cell_type": "code",
      "execution_count": null,
      "metadata": {
        "colab": {
          "background_save": true
        },
        "id": "yHKGjQ0o2rEU"
      },
      "outputs": [],
      "source": [
        "x=data.drop(columns=['team1_wins', \"WinningTeam\", 'WonBy', 'Date', \"Margin\"])\n",
        "y=data[\"team1_wins\"]\n",
        "x = x.reindex(columns=['Season', 'dayofyear', 'dayofweek', 'Venue', 'City',\n",
        "                           'Team1', 'Team2', 'team1_avg_win_rate', 'team2_avg_win_rate', 'team1_home', 'team2_home',\n",
        "                           'team1_avg_win_margin', 'team2_avg_win_margin', 'Team1Score', 'Team2Score',\n",
        "                           'TossWinner',  'TossDecision_field',\n",
        "                           'Umpire1', 'Umpire2'])\n",
        "X_train, X_test, y_train, y_test = train_test_split(x, y, test_size=0.2, random_state=42)"
      ]
    },
    {
      "cell_type": "code",
      "execution_count": null,
      "metadata": {
        "colab": {
          "background_save": true
        },
        "id": "yxSI1xRE2rEV"
      },
      "outputs": [],
      "source": [
        "model = LogisticRegression(multi_class='multinomial', solver='newton-cg', max_iter=500)\n",
        "model.fit(X_train, y_train)\n",
        "y_pred=model.predict(X_test)\n",
        "accuracy = accuracy_score(y_test, y_pred)\n",
        "accuracy"
      ]
    },
    {
      "cell_type": "code",
      "execution_count": null,
      "metadata": {
        "colab": {
          "background_save": true
        },
        "id": "22xwnJU52rEV"
      },
      "outputs": [],
      "source": [
        "rf_classifier = RandomForestClassifier(n_estimators=300, random_state=99)  # You can adjust n_estimators\n",
        "rf_classifier.fit(X_train, y_train)\n",
        "\n",
        "y_pred = rf_classifier.predict(X_test)\n",
        "\n",
        "accuracy = accuracy_score(y_test, y_pred)\n",
        "print(f'Accuracy: {accuracy:.2f}')\n",
        "\n",
        "print('Classification Report:')\n",
        "print(classification_report(y_test, y_pred))\n"
      ]
    },
    {
      "cell_type": "code",
      "execution_count": null,
      "metadata": {
        "colab": {
          "background_save": true
        },
        "id": "7yfzdyT-2rEV"
      },
      "outputs": [],
      "source": [
        "X_train.columns"
      ]
    },
    {
      "cell_type": "code",
      "execution_count": null,
      "metadata": {
        "colab": {
          "background_save": true
        },
        "id": "YZuvoJ_p2rEW"
      },
      "outputs": [],
      "source": [
        "toss_decision_list = data_copy[\"TossDecision\"].unique()"
      ]
    },
    {
      "cell_type": "code",
      "execution_count": null,
      "metadata": {
        "colab": {
          "background_save": true
        },
        "id": "S6gKesAS2rEW"
      },
      "outputs": [],
      "source": [
        "umpires"
      ]
    },
    {
      "cell_type": "code",
      "execution_count": null,
      "metadata": {
        "colab": {
          "background_save": true
        },
        "id": "8sDhg-I72rEW"
      },
      "outputs": [],
      "source": [
        "X_train.columns"
      ]
    },
    {
      "cell_type": "code",
      "execution_count": null,
      "metadata": {
        "colab": {
          "background_save": true
        },
        "id": "PoZeZ2HL2rEX"
      },
      "outputs": [],
      "source": [
        "X_train.head()"
      ]
    },
    {
      "cell_type": "code",
      "execution_count": null,
      "metadata": {
        "colab": {
          "background_save": true
        },
        "id": "K5y5gMuk2rEY"
      },
      "outputs": [],
      "source": [
        "def process_test_data(df):\n",
        "    df = df.copy()\n",
        "    df['Season'] = pd.to_datetime(df['Date']).dt.year\n",
        "    df['dayofyear'] = pd.to_datetime(df['Date']).dt.dayofyear\n",
        "    df['dayofweek'] = pd.to_datetime(df['Date']).dt.dayofweek\n",
        "    df = df.drop(columns=['Date'])\n",
        "\n",
        "    df['team1_home'] = False\n",
        "    df['team2_home'] = False\n",
        "\n",
        "    df.loc[df['City'] == df['Team1'], 'team1_home'] = True\n",
        "    df.loc[df['City'] == df['Team2'], 'team2_home'] = True\n",
        "\n",
        "    df['team1_avg_win_rate'] = df['Team1'].map(avg_win_rate)\n",
        "    df['team2_avg_win_rate'] = df['Team2'].map(avg_win_rate)\n",
        "\n",
        "    df['team1_avg_win_margin'] = df['Team1'].map(avg_win_margin)\n",
        "    df['team2_avg_win_margin'] = df['Team2'].map(avg_win_margin)\n",
        "\n",
        "    df = add_team_scores(df)\n",
        "\n",
        "    df['Team1'] = teams_encoder.transform(df['Team1'])\n",
        "    df['Team2'] = teams_encoder.transform(df['Team2'])\n",
        "    df['City'] = teams_encoder.transform(df['City'])\n",
        "    df['TossWinner'] = teams_encoder.transform(df['TossWinner'])\n",
        "\n",
        "    df['Venue'] = venue_encoder.transform(df['Venue'])\n",
        "    df['Umpire1'] = umpires_encoder.transform(df['Umpire1'])\n",
        "    df['Umpire2'] = umpires_encoder.transform(df['Umpire2'])\n",
        "\n",
        "\n",
        "    df = df.reindex(columns=['Season', 'dayofyear', 'dayofweek', 'Venue', 'City',\n",
        "                           'Team1', 'Team2', 'team1_avg_win_rate', 'team2_avg_win_rate', 'team1_home', 'team2_home',\n",
        "                           'team1_avg_win_margin', 'team2_avg_win_margin', 'Team1Score', 'Team2Score',\n",
        "                           'TossWinner',  'TossDecision_field',\n",
        "                           'Umpire1', 'Umpire2'])\n",
        "\n",
        "    return df"
      ]
    },
    {
      "cell_type": "code",
      "execution_count": null,
      "metadata": {
        "colab": {
          "background_save": true
        },
        "id": "pFqaKewq2rEZ"
      },
      "outputs": [],
      "source": [
        "from IPython.display import display\n",
        "import ipywidgets as widgets\n",
        "import pandas as pd\n",
        "from datetime import datetime\n",
        "\n",
        "teams = avg_win_rate.keys()\n",
        "venues = data_copy['Venue'].unique()\n",
        "\n",
        "players1 = ['A Ashish Reddy', 'A Badoni', 'A Chandila', 'A Chopra', 'A Choudhary', 'A Dananjaya', 'A Flintoff', 'A Kumble', 'A Manohar', 'A Mishra', 'A Mithun']\n",
        "players2 = ['A Mukund', 'A Nehra', 'A Nel', 'A Nortje', 'A Singh', 'A Symonds', 'A Tomar', 'A Uniyal', 'A Zampa', 'AA Bilakhia', 'AA Chavan']\n",
        "\n",
        "\n",
        "stadium_city_map = {\n",
        "        'M Chinnaswamy Stadium': 'Bangalore',\n",
        "        'M Chinnaswamy Stadium, Bengaluru': 'Bangalore',\n",
        "        'Punjab Cricket Association Stadium, Mohali': 'Mohali',\n",
        "        'Punjab Cricket Association IS Bindra Stadium, Mohali': 'Mohali',\n",
        "        'Feroz Shah Kotla': 'Delhi',\n",
        "        'Arun Jaitley Stadium': 'Delhi',\n",
        "        'Arun Jaitley Stadium, Delhi': 'Delhi',\n",
        "        'Wankhede Stadium': 'Mumbai',\n",
        "        'Wankhede Stadium, Mumbai': 'Mumbai',\n",
        "        'Eden Gardens': 'Kolkata',\n",
        "        'Eden Gardens, Kolkata': 'Kolkata',\n",
        "        'Sawai Mansingh Stadium': 'Jaipur',\n",
        "        'Sawai Mansingh Stadium, Jaipur': 'Jaipur',\n",
        "        'Rajiv Gandhi International Stadium, Uppal': 'Hyderabad',\n",
        "        'Rajiv Gandhi International Stadium': 'Hyderabad',\n",
        "        'Rajiv Gandhi International Stadium, Uppal, Hyderabad': 'Hyderabad',\n",
        "        'MA Chidambaram Stadium, Chepauk': 'Chennai',\n",
        "        'MA Chidambaram Stadium': 'Chennai',\n",
        "        'MA Chidambaram Stadium, Chepauk, Chennai': 'Chennai',\n",
        "        'Dr DY Patil Sports Academy': 'Mumbai',\n",
        "        'Dr DY Patil Sports Academy, Mumbai': 'Mumbai',\n",
        "        'Newlands': 'Cape Town',\n",
        "        \"St George's Park\": 'Port Elizabeth',\n",
        "        'Kingsmead': 'Durban',\n",
        "        'SuperSport Park': 'Centurion',\n",
        "        'Buffalo Park': 'East London',\n",
        "        'New Wanderers Stadium': 'Johannesburg',\n",
        "        'De Beers Diamond Oval': 'Kimberley',\n",
        "        'OUTsurance Oval': 'Bloemfontein',\n",
        "        'Brabourne Stadium': 'Mumbai',\n",
        "        'Brabourne Stadium, Mumbai': 'Mumbai',\n",
        "        'Sardar Patel Stadium, Motera': 'Ahmedabad',\n",
        "        'Barabati Stadium': 'Cuttack',\n",
        "        'Vidarbha Cricket Association Stadium, Jamtha': 'Nagpur',\n",
        "        'Himachal Pradesh Cricket Association Stadium': 'Dharamsala',\n",
        "        'Himachal Pradesh Cricket Association Stadium, Dharamsala': 'Dharamsala',\n",
        "        'Nehru Stadium': 'Kochi',\n",
        "        'Holkar Cricket Stadium': 'Indore',\n",
        "        'Dr. Y.S. Rajasekhara Reddy ACA-VDCA Cricket Stadium': 'Visakhapatnam',\n",
        "        'Dr. Y.S. Rajasekhara Reddy ACA-VDCA Cricket Stadium, Visakhapatnam': 'Visakhapatnam',\n",
        "        'Subrata Roy Sahara Stadium': 'Pune',\n",
        "        'Maharashtra Cricket Association Stadium': 'Pune',\n",
        "        'Maharashtra Cricket Association Stadium, Pune': 'Pune',\n",
        "        'Shaheed Veer Narayan Singh International Stadium': 'Raipur',\n",
        "        'JSCA International Stadium Complex': 'Ranchi',\n",
        "        'Sheikh Zayed Stadium': 'Abu Dhabi',\n",
        "        'Sharjah Cricket Stadium': 'Sharjah',\n",
        "        'Dubai International Cricket Stadium': 'Dubai',\n",
        "        'Saurashtra Cricket Association Stadium': 'Rajkot',\n",
        "        'Green Park': 'Kanpur',\n",
        "        'Narendra Modi Stadium, Ahmedabad': 'Ahmedabad',\n",
        "        'Zayed Cricket Stadium, Abu Dhabi': 'Abu Dhabi',\n",
        "        'Eden Gardens, Kolkata': 'Kolkata',\n",
        "        'Punjab Cricket Association IS Bindra Stadium': 'Mohali',\n",
        "        'Punjab Cricket Association IS Bindra Stadium, Mohali, Chandigarh': 'Mohali',\n",
        "        'Bharat Ratna Shri Atal Bihari Vajpayee Ekana Cricket Stadium, Lucknow': 'Lucknow',\n",
        "        'Barsapara Cricket Stadium, Guwahati': 'Guwahati',\n",
        "        'Maharaja Yadavindra Singh International Cricket Stadium, Mullanpur': 'Mullanpur'\n",
        "}\n",
        "\n",
        "date = widgets.DatePicker(description='Select a date', disabled=False)\n",
        "venue = widgets.Dropdown(options=venues, description='Venue:')\n",
        "team1 = widgets.Dropdown(options=teams, description='Team 1:')\n",
        "team2 = widgets.Dropdown(options=teams, description='Team 2:')\n",
        "toss_winner = widgets.Dropdown(options=teams, description='Toss Winner:')\n",
        "team1_players = widgets.SelectMultiple(value=players1, options=players_set, description='Team1 Players')\n",
        "team2_players = widgets.SelectMultiple(value=players2, options=players_set, description='Team2 Players')\n",
        "toss_decision_field = widgets.Checkbox(value=False, description='Toss winner chose fielding?')\n",
        "umpire1 = widgets.Dropdown(options=umpires, description='Umpire 1:')\n",
        "umpire2 = widgets.Dropdown(options=umpires, description='Umpire 2:')\n",
        "\n",
        "prediction_result = widgets.Output()\n",
        "\n",
        "def handle_prediction(btn):\n",
        "    with prediction_result:\n",
        "        prediction_result.clear_output()\n",
        "        if team1.value == team2.value:\n",
        "            print(\"Team1 and team2 cannot be the same!\")\n",
        "            return\n",
        "        if umpire1.value == umpire2.value:\n",
        "            print(\"One person can't be both umpires!\")\n",
        "            return\n",
        "\n",
        "        test_data = {\n",
        "            'Date': date.value,\n",
        "            'Venue': venue.value,\n",
        "            'City': stadium_city_map[venue.value],\n",
        "            'Team1': team1.value,\n",
        "            'Team2': team2.value,\n",
        "            'TossWinner': toss_winner.value,\n",
        "            'TossDecision_field': toss_decision_field.value,\n",
        "            'Umpire1': umpire1.value,\n",
        "            'Umpire2': umpire2.value,\n",
        "            'Team1Players': team1_players.value,\n",
        "            'Team2Players': team2_players.value\n",
        "        }\n",
        "\n",
        "        if None in test_data.values():\n",
        "            print(\"Please fill all fields.\")\n",
        "            return\n",
        "\n",
        "        test_data_df = pd.Series(test_data).to_frame().T\n",
        "        test_data_df = process_test_data(test_data_df)\n",
        "        print(f\"Processed Test Data:\\n{test_data_df}\")\n",
        "        prediction = model.predict_proba(test_data_df)[0]\n",
        "        print(f\"Prediction: \\n{team1.value} - {prediction[1]} \\n{team2.value} - {prediction[0]}\")\n",
        "\n",
        "predict_button = widgets.Button(description='Predict')\n",
        "predict_button.on_click(handle_prediction)\n",
        "\n",
        "input_form = widgets.VBox([\n",
        "    date, venue, team1, team2, toss_winner, toss_decision_field, umpire1, umpire2,\n",
        "    team1_players, team2_players,\n",
        "    predict_button, prediction_result\n",
        "])\n",
        "\n",
        "display(input_form)"
      ]
    },
    {
      "cell_type": "code",
      "execution_count": null,
      "metadata": {
        "colab": {
          "background_save": true
        },
        "id": "tAAwr2lU6yuZ"
      },
      "outputs": [],
      "source": [
        "import matplotlib.pyplot as plt\n",
        "import seaborn as sns\n",
        "from sklearn.preprocessing import LabelEncoder\n",
        "from sklearn.impute import SimpleImputer\n",
        "from sklearn.ensemble import ExtraTreesClassifier, RandomForestClassifier\n",
        "from sklearn.model_selection import GridSearchCV, RandomizedSearchCV\n",
        "from xgboost import XGBClassifier\n",
        "from lightgbm import LGBMClassifier\n",
        "from sklearn.model_selection import train_test_split\n",
        "from sklearn.metrics import accuracy_score, roc_auc_score, classification_report"
      ]
    },
    {
      "cell_type": "code",
      "execution_count": null,
      "metadata": {
        "colab": {
          "background_save": true
        },
        "id": "SMCqPR3O6kG4"
      },
      "outputs": [],
      "source": [
        "et = ExtraTreesClassifier(n_estimators=100, min_samples_split=3, min_samples_leaf=3, max_depth=8, bootstrap=False)\n",
        "\n",
        "param_dist = {\n",
        "    'n_estimators': [100, 250, 500, 1000],\n",
        "    'max_features': ['auto', 'sqrt', 'log2'],\n",
        "    'max_depth': [None, 5, 6, 7, 8],\n",
        "    'min_samples_split': [2, 3, 4],\n",
        "    'min_samples_leaf': [2, 3, 4],\n",
        "    'bootstrap': [False, True]\n",
        "}\n",
        "\n",
        "random_search_et = RandomizedSearchCV(estimator=et, param_distributions=param_dist, n_iter=100, cv=5, random_state=42, n_jobs=-1, verbose=3)\n",
        "\n",
        "random_search_et.fit(X_train, y_train)\n",
        "\n",
        "et.fit(X_train, y_train)"
      ]
    },
    {
      "cell_type": "code",
      "execution_count": null,
      "metadata": {
        "colab": {
          "background_save": true
        },
        "id": "FAUxoRS37wtG"
      },
      "outputs": [],
      "source": [
        "print(f\"Best parameters: {random_search_et.best_params_}\")\n",
        "print(f\"Best cross-validation score: {random_search_et.best_score_}\")\n",
        "\n",
        "best_model_et = random_search_et.best_estimator_\n",
        "test_score = best_model_et.score(X_test, y_test)\n",
        "print(f\"Test set score: {test_score}\")"
      ]
    },
    {
      "cell_type": "code",
      "execution_count": null,
      "metadata": {
        "colab": {
          "background_save": true
        },
        "id": "caSffT-070I1"
      },
      "outputs": [],
      "source": [
        "best_model_et = et"
      ]
    },
    {
      "cell_type": "code",
      "execution_count": null,
      "metadata": {
        "colab": {
          "background_save": true
        },
        "id": "eo9hmCQe73EE"
      },
      "outputs": [],
      "source": [
        "y_pred = best_model_et.predict(X_test)\n",
        "y_pred_proba = best_model_et.predict_proba(X_test)"
      ]
    },
    {
      "cell_type": "code",
      "execution_count": null,
      "metadata": {
        "colab": {
          "background_save": true
        },
        "id": "yUDQ0-wi75Zk"
      },
      "outputs": [],
      "source": [
        "print('ATrS:', best_model_et.score(X_train, y_train))\n",
        "print('ATeS:', best_model_et.score(X_test, y_test))\n",
        "print(classification_report(y_test, y_pred))"
      ]
    }
  ],
  "metadata": {
    "colab": {
      "provenance": []
    },
    "kernelspec": {
      "display_name": "pytorchenv",
      "language": "python",
      "name": "python3"
    },
    "language_info": {
      "codemirror_mode": {
        "name": "ipython",
        "version": 3
      },
      "file_extension": ".py",
      "mimetype": "text/x-python",
      "name": "python",
      "nbconvert_exporter": "python",
      "pygments_lexer": "ipython3",
      "version": "3.11.7"
    }
  },
  "nbformat": 4,
  "nbformat_minor": 0
}